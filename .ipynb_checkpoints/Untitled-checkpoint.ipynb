{
 "cells": [
  {
   "cell_type": "code",
   "execution_count": 25,
   "metadata": {},
   "outputs": [
    {
     "name": "stdout",
     "output_type": "stream",
     "text": [
      "None\n"
     ]
    }
   ],
   "source": [
    "import random\n",
    "class Perceptron:\n",
    "    def __init__(self,size):\n",
    "        self.weights = []\n",
    "        self.inputs =[]\n",
    "        for i in range(size):\n",
    "            self.weights.append(random.uniform(-1, 1))  \n",
    "        self.inputs=[] \n",
    "    def activation (self,X):\n",
    "         return 1 if X>=0  else -1\n",
    "    def guess (self):\n",
    "        sum = 0.0;\n",
    "        for i in range(len (self.weights)):\n",
    "            sum += self.inputs[i]*self.weights[i]\n",
    "        return self.activation (sum)  \n",
    "    \n",
    "p = Perceptron(2)\n",
    "p.inputs=[-1.0,.5]\n",
    "print(p.guess())"
   ]
  },
  {
   "cell_type": "code",
   "execution_count": null,
   "metadata": {},
   "outputs": [],
   "source": []
  },
  {
   "cell_type": "code",
   "execution_count": null,
   "metadata": {},
   "outputs": [],
   "source": []
  },
  {
   "cell_type": "code",
   "execution_count": null,
   "metadata": {},
   "outputs": [],
   "source": []
  }
 ],
 "metadata": {
  "kernelspec": {
   "display_name": "Python 2",
   "language": "python",
   "name": "python2"
  },
  "language_info": {
   "codemirror_mode": {
    "name": "ipython",
    "version": 2
   },
   "file_extension": ".py",
   "mimetype": "text/x-python",
   "name": "python",
   "nbconvert_exporter": "python",
   "pygments_lexer": "ipython2",
   "version": "2.7.14"
  }
 },
 "nbformat": 4,
 "nbformat_minor": 2
}
